{
 "cells": [
  {
   "cell_type": "markdown",
   "source": [
    "### CNN model of Digit Recognizer using Pytorch\n",
    "\n",
    "Hoon Kim (id : KeyboardWarrior6969)\n"
   ],
   "metadata": {
    "collapsed": false
   }
  },
  {
   "cell_type": "markdown",
   "source": [
    "**1. Introduction**\n",
    "\n",
    "**2. Data Preparation**\n",
    "\n",
    "- 2.1 Load Data\n",
    "- 2.2 Check for Null and missing Values\n",
    "- 2.3 Plot Sample Images\n",
    "- 2.4 Data Label Distribution and Splitting\n",
    "- 2.5 Training and Validation Data Split\n",
    "- 2.6 Annealer\n",
    "- 2.7 Plot transformed images\n",
    "\n",
    "**3. Cnn Model**\n",
    "- 3.1 Prepare Data Loader"
   ],
   "metadata": {
    "collapsed": false
   }
  },
  {
   "cell_type": "markdown",
   "source": [
    "## 1. Introduction\n",
    "The aim of this notebook is to build a model, evaluate the model and save it for future use."
   ],
   "metadata": {
    "collapsed": false
   }
  },
  {
   "cell_type": "code",
   "execution_count": 1162,
   "outputs": [],
   "source": [
    "import numpy as np # linear algebra\n",
    "import pandas as pd # data processing, CSV file I/O (e.g. pd.read_csv)\n",
    "import seaborn as sns\n",
    "from sklearn.model_selection import train_test_split\n",
    "from PIL import Image\n",
    "%matplotlib inline\n",
    "\n",
    "np.random.seed(2)\n",
    "sns.set(style = 'white', context= 'notebook', palette = 'deep')"
   ],
   "metadata": {
    "collapsed": false,
    "pycharm": {
     "name": "#%%\n"
    }
   }
  },
  {
   "cell_type": "code",
   "execution_count": 1163,
   "outputs": [],
   "source": [
    "from torch.utils.data import Dataset, DataLoader\n",
    "from torchvision.transforms import Resize, Compose, ToTensor,CenterCrop, RandomApply, RandomRotation"
   ],
   "metadata": {
    "collapsed": false,
    "pycharm": {
     "name": "#%%\n"
    }
   }
  },
  {
   "cell_type": "markdown",
   "source": [
    "## 2. Data Preparation"
   ],
   "metadata": {
    "collapsed": false
   }
  },
  {
   "cell_type": "markdown",
   "source": [
    "### 2.1 Load Data"
   ],
   "metadata": {
    "collapsed": false
   }
  },
  {
   "cell_type": "code",
   "execution_count": 1164,
   "outputs": [],
   "source": [
    "# Load the data\n",
    "train = pd.read_csv('Data/train.csv')\n",
    "test = pd.read_csv('Data/test.csv')"
   ],
   "metadata": {
    "collapsed": false,
    "pycharm": {
     "name": "#%%\n"
    }
   }
  },
  {
   "cell_type": "markdown",
   "source": [
    "### 2.2 Check for null and missing values"
   ],
   "metadata": {
    "collapsed": false
   }
  },
  {
   "cell_type": "code",
   "execution_count": 1165,
   "outputs": [
    {
     "data": {
      "text/plain": "count       785\nunique        1\ntop       False\nfreq        785\ndtype: object"
     },
     "execution_count": 1165,
     "metadata": {},
     "output_type": "execute_result"
    }
   ],
   "source": [
    "train.isnull().any().describe()"
   ],
   "metadata": {
    "collapsed": false,
    "pycharm": {
     "name": "#%%\n"
    }
   }
  },
  {
   "cell_type": "code",
   "execution_count": 1166,
   "outputs": [
    {
     "data": {
      "text/plain": "count       784\nunique        1\ntop       False\nfreq        784\ndtype: object"
     },
     "execution_count": 1166,
     "metadata": {},
     "output_type": "execute_result"
    }
   ],
   "source": [
    "test.isnull().any().describe()"
   ],
   "metadata": {
    "collapsed": false,
    "pycharm": {
     "name": "#%%\n"
    }
   }
  },
  {
   "cell_type": "markdown",
   "source": [
    "### 2.3 Plot Sample Images"
   ],
   "metadata": {
    "collapsed": false
   }
  },
  {
   "cell_type": "code",
   "execution_count": 1167,
   "outputs": [
    {
     "data": {
      "text/plain": "<Figure size 720x720 with 20 Axes>",
      "image/png": "[encoded data removed]"
     },
     "metadata": {},
     "output_type": "display_data"
    }
   ],
   "source": [
    "sample = train.sample(n= 20)\n",
    "sample_y = sample['label'].to_numpy()\n",
    "sample_x = sample.drop(labels = ['label'], axis = 1) # drop labels\n",
    "sample_x = sample_x.values.reshape(-1,28,28,1)\n",
    "\n",
    "j=0\n",
    "fig=plt.figure(figsize=(10, 10))\n",
    "while j < 20:\n",
    "\n",
    "    img = sample_x[j]\n",
    "    fig.add_subplot(4,5,j+1)\n",
    "    plt.xticks([])\n",
    "    plt.yticks([])\n",
    "    plt.grid(False)\n",
    "    plt.imshow(img, cmap=plt.cm.binary)\n",
    "    plt.title(sample_y[j])\n",
    "    j += 1\n",
    "plt.show()"
   ],
   "metadata": {
    "collapsed": false,
    "pycharm": {
     "name": "#%%\n"
    }
   }
  },
  {
   "cell_type": "markdown",
   "source": [
    "#### 2.4 Data Label Distribution and Splitting"
   ],
   "metadata": {
    "collapsed": false
   }
  },
  {
   "cell_type": "code",
   "execution_count": 1168,
   "outputs": [
    {
     "name": "stderr",
     "output_type": "stream",
     "text": [
      "c:\\users\\hoon\\pycharmprojects\\digitrec_real\\venv\\lib\\site-packages\\seaborn\\_decorators.py:36: FutureWarning: Pass the following variable as a keyword arg: x. From version 0.12, the only valid positional argument will be `data`, and passing other arguments without an explicit keyword will result in an error or misinterpretation.\n",
      "  warnings.warn(\n"
     ]
    },
    {
     "data": {
      "text/plain": "<AxesSubplot:xlabel='label', ylabel='count'>"
     },
     "execution_count": 1168,
     "metadata": {},
     "output_type": "execute_result"
    },
    {
     "data": {
      "text/plain": "<Figure size 432x288 with 1 Axes>",
      "image/png": "[encoded data removed]"
     },
     "metadata": {},
     "output_type": "display_data"
    }
   ],
   "source": [
    "Y_train = train['label'] #extract labels\n",
    "X_train = train.drop(labels = ['label'], axis = 1).to_numpy() # drop labels\n",
    "del train # free memory\n",
    "\n",
    "g = sns.countplot(Y_train)\n",
    "g"
   ],
   "metadata": {
    "collapsed": false,
    "pycharm": {
     "name": "#%%\n"
    }
   }
  },
  {
   "cell_type": "markdown",
   "source": [
    "#### 2.5 Training and Validation Data Split\n"
   ],
   "metadata": {
    "collapsed": false
   }
  },
  {
   "cell_type": "code",
   "execution_count": 1169,
   "outputs": [],
   "source": [
    "train_idx, val_idx = train_test_split(list(range(len(Y_train))), test_size = 0.2)\n",
    "\n",
    "x_val = [X_train[k] for k in val_idx]\n",
    "y_val = [Y_train[k] for k in val_idx]\n",
    "\n",
    "x_train = [X_train[k] for k in train_idx]\n",
    "y_train = [Y_train[k] for k in train_idx]"
   ],
   "metadata": {
    "collapsed": false,
    "pycharm": {
     "name": "#%%\n"
    }
   }
  },
  {
   "cell_type": "markdown",
   "source": [
    "#### 2.6 Annealer\n"
   ],
   "metadata": {
    "collapsed": false
   }
  },
  {
   "cell_type": "code",
   "execution_count": 1170,
   "outputs": [],
   "source": [
    "class dataset(Dataset):\n",
    "\n",
    "        def __init__(self, imgs, labels,transforms):\n",
    "            self.imgs = imgs\n",
    "            self.labels = labels\n",
    "            self.transforms = transforms\n",
    "\n",
    "        def __len__(self): # Unncessary Method\n",
    "            self.imgs_length = len(self.imgs)\n",
    "            return self.imgs_length\n",
    "\n",
    "        def __getitem__(self,idx):\n",
    "            im = self.imgs[idx].reshape((28,28))\n",
    "            x = Image.fromarray(im.astype(np.uint8))\n",
    "            if self.transforms:\n",
    "                x = self.transforms(x)\n",
    "            label = self.labels[idx]\n",
    "            return x, label"
   ],
   "metadata": {
    "collapsed": false,
    "pycharm": {
     "name": "#%%\n"
    }
   }
  },
  {
   "cell_type": "code",
   "execution_count": 1171,
   "outputs": [],
   "source": [
    "def transformz(x):\n",
    "    img_transformz = Compose([\n",
    "        RandomRotation((-15,15),expand = True), # Rotate the image with a random angle between 15\n",
    "        # degrees clockwise and anti clockwise\n",
    "        RandomApply([CenterCrop(26)],p = 0.6), # Random apply a Center Crop to Images, probability = 0.6\n",
    "        Resize(32), # resize images to 32 by 32\n",
    "        ToTensor() # Normalizes the image and converts the image to a torch.tensor dtype\n",
    "\n",
    "    ])\n",
    "    return img_transformz(x)\n",
    "\n"
   ],
   "metadata": {
    "collapsed": false,
    "pycharm": {
     "name": "#%%\n"
    }
   }
  },
  {
   "cell_type": "code",
   "execution_count": 1172,
   "outputs": [],
   "source": [
    "train_data = dataset(x_train, y_train,transformz)\n",
    "val_data  = dataset(x_val, y_val,transformz)"
   ],
   "metadata": {
    "collapsed": false,
    "pycharm": {
     "name": "#%%\n"
    }
   }
  },
  {
   "cell_type": "markdown",
   "source": [
    "#### 2.7 Plot transformed images"
   ],
   "metadata": {
    "collapsed": false
   }
  },
  {
   "cell_type": "code",
   "execution_count": 1173,
   "outputs": [
    {
     "data": {
      "text/plain": "<Figure size 720x720 with 20 Axes>",
      "image/png": "[encoded data removed]"
     },
     "metadata": {},
     "output_type": "display_data"
    }
   ],
   "source": [
    "import random\n",
    "#Generate 20 random numbers between 0 and number of training data samples\n",
    "randomlist = random.sample(range(0, len(y_train)), 20)\n",
    "\n",
    "# Check the Images have been rotated to some degree\n",
    "fig=plt.figure(figsize=(10, 10))\n",
    "k = 0\n",
    "for j in randomlist:\n",
    "\n",
    "    fig.add_subplot(4,5,k+1)\n",
    "    plt.xticks([])\n",
    "    plt.yticks([])\n",
    "    plt.grid(False)\n",
    "    plt.imshow(np.squeeze(train_data[j][0]), cmap=plt.cm.binary)\n",
    "    plt.title(train_data[j][1])\n",
    "    k += 1\n",
    "plt.show()"
   ],
   "metadata": {
    "collapsed": false,
    "pycharm": {
     "name": "#%%\n"
    }
   }
  },
  {
   "cell_type": "markdown",
   "source": [
    "### CNN Model"
   ],
   "metadata": {
    "collapsed": false
   }
  },
  {
   "cell_type": "markdown",
   "source": [
    "#### 3.1 Prepare Data Loaders"
   ],
   "metadata": {
    "collapsed": false
   }
  },
  {
   "cell_type": "code",
   "execution_count": 1174,
   "outputs": [],
   "source": [
    "train_loader = DataLoader(dataset = train_data, batch_size=16, shuffle=True )\n",
    "val_loader = DataLoader(dataset = val_data, batch_size=16, shuffle=True )"
   ],
   "metadata": {
    "collapsed": false,
    "pycharm": {
     "name": "#%%\n"
    }
   }
  }
 ],
 "metadata": {
  "kernelspec": {
   "display_name": "Python 3",
   "language": "python",
   "name": "python3"
  },
  "language_info": {
   "codemirror_mode": {
    "name": "ipython",
    "version": 3
   },
   "file_extension": ".py",
   "mimetype": "text/x-python",
   "name": "python",
   "nbconvert_exporter": "python",
   "pygments_lexer": "ipython3",
   "version": "3.7.6"
  },
  "papermill": {
   "duration": 226.753984,
   "end_time": "2020-12-25T09:05:24.197293",
   "environment_variables": {},
   "exception": null,
   "input_path": "__notebook__.ipynb",
   "output_path": "__notebook__.ipynb",
   "parameters": {},
   "start_time": "2020-12-25T09:01:37.443309",
   "version": "2.1.0"
  }
 },
 "nbformat": 4,
 "nbformat_minor": 4
}