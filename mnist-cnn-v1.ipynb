{
 "cells": [
  {
   "cell_type": "markdown",
   "metadata": {},
   "source": [
    "### CNN model of Digit Recognizer using Pytorch\n",
    "\n",
    "Hoon Kim (id : KeyboardWarrior6969)\n"
   ]
  },
  {
   "cell_type": "markdown",
   "metadata": {},
   "source": [
    "**1. Introduction**\n",
    "\n",
    "**2. Data Preparation**\n",
    "\n",
    "- 2.1 Load Data\n",
    "- 2.2 Check for Null and missing Values\n",
    "- 2.3 Plot Sample Images\n",
    "- 2.4 Data Label Distribution and Splitting\n",
    "- 2.5 Training and Validation Data Split\n",
    "- 2.6 Annealer\n",
    "- 2.7 Plot transformed images\n",
    "\n",
    "**3. Cnn Model**\n",
    "- 3.1 Prepare Data Loader\n",
    "- 3.2 Model\n",
    "- 3.3 Optimizer\n",
    "- 3.4 Model Training\n",
    "\n",
    "**4. Model Performance**\n",
    "- 4.1 Training and Validation Curves\n",
    "- 4.2 Save Model"
   ]
  },
  {
   "cell_type": "markdown",
   "metadata": {},
   "source": [
    "## 1. Introduction\n",
    "The aim of this notebook is to build a model, evaluate the model and save it for future use."
   ]
  },
  {
   "cell_type": "code",
   "execution_count": 166,
   "metadata": {
    "pycharm": {
     "name": "#%%\n"
    }
   },
   "outputs": [],
   "source": [
    "import numpy as np # linear algebra\n",
    "import pandas as pd # data processing, CSV file I/O (e.g. pd.read_csv)\n",
    "import seaborn as sns\n",
    "from sklearn.model_selection import train_test_split\n",
    "import matplotlib.pyplot as plt\n",
    "from PIL import Image\n",
    "%matplotlib inline\n",
    "\n",
    "np.random.seed(2)\n",
    "sns.set(style = 'white', context= 'notebook', palette = 'deep')"
   ]
  },
  {
   "cell_type": "code",
   "execution_count": 167,
   "metadata": {
    "pycharm": {
     "name": "#%%\n"
    }
   },
   "outputs": [
    {
     "name": "stdout",
     "output_type": "stream",
     "text": [
      "cuda\n"
     ]
    }
   ],
   "source": [
    "import torch\n",
    "import torch.nn as nn\n",
    "from torch.utils.data import Dataset, DataLoader\n",
    "from torchvision.transforms import Resize, Compose, ToTensor,CenterCrop, RandomApply, RandomRotation\n",
    "\n",
    "# for the gpu\n",
    "device = torch.device('cuda' if torch.cuda.is_available() else 'cpu')\n",
    "torch.manual_seed(1234)\n",
    "if device =='cuda':\n",
    "    torch.cuda.manual_seed_all(1234)\n",
    "print(device)"
   ]
  },
  {
   "cell_type": "markdown",
   "metadata": {},
   "source": [
    "## 2. Data Preparation"
   ]
  },
  {
   "cell_type": "markdown",
   "metadata": {},
   "source": [
    "### 2.1 Load Data"
   ]
  },
  {
   "cell_type": "code",
   "execution_count": 168,
   "metadata": {
    "pycharm": {
     "name": "#%%\n"
    }
   },
   "outputs": [],
   "source": [
    "# Load the data\n",
    "train = pd.read_csv('Data/train.csv')\n",
    "test = pd.read_csv('Data/test.csv')"
   ]
  },
  {
   "cell_type": "markdown",
   "metadata": {},
   "source": [
    "### 2.2 Check for null and missing values"
   ]
  },
  {
   "cell_type": "code",
   "execution_count": 169,
   "metadata": {
    "pycharm": {
     "name": "#%%\n"
    }
   },
   "outputs": [
    {
     "data": {
      "text/plain": [
       "count       785\n",
       "unique        1\n",
       "top       False\n",
       "freq        785\n",
       "dtype: object"
      ]
     },
     "execution_count": 169,
     "metadata": {},
     "output_type": "execute_result"
    }
   ],
   "source": [
    "train.isnull().any().describe()"
   ]
  },
  {
   "cell_type": "code",
   "execution_count": 170,
   "metadata": {
    "pycharm": {
     "name": "#%%\n"
    }
   },
   "outputs": [
    {
     "data": {
      "text/plain": [
       "count       784\n",
       "unique        1\n",
       "top       False\n",
       "freq        784\n",
       "dtype: object"
      ]
     },
     "execution_count": 170,
     "metadata": {},
     "output_type": "execute_result"
    }
   ],
   "source": [
    "test.isnull().any().describe()"
   ]
  },
  {
   "cell_type": "markdown",
   "metadata": {},
   "source": [
    "### 2.3 Plot Sample Images"
   ]
  },
  {
   "cell_type": "code",
   "execution_count": 171,
   "metadata": {
    "pycharm": {
     "name": "#%%\n"
    }
   },
   "outputs": [
    {
     "data": {
      "image/png": "[encoded data removed]",
      "text/plain": [
       "<Figure size 720x720 with 20 Axes>"
      ]
     },
     "metadata": {},
     "output_type": "display_data"
    }
   ],
   "source": [
    "sample = train.sample(n= 20)\n",
    "sample_y = sample['label'].to_numpy()\n",
    "sample_x = sample.drop(labels = ['label'], axis = 1) # drop labels\n",
    "sample_x = sample_x.values.reshape(-1,28,28,1)\n",
    "\n",
    "j=0\n",
    "fig=plt.figure(figsize=(10, 10))\n",
    "while j < 20:\n",
    "\n",
    "    img = sample_x[j]\n",
    "    fig.add_subplot(4,5,j+1)\n",
    "    plt.xticks([])\n",
    "    plt.yticks([])\n",
    "    plt.grid(False)\n",
    "    plt.imshow(img, cmap=plt.cm.binary)\n",
    "    plt.title(sample_y[j])\n",
    "    j += 1\n",
    "plt.show()"
   ]
  },
  {
   "cell_type": "markdown",
   "metadata": {},
   "source": [
    "#### 2.4 Data Label Distribution and Splitting"
   ]
  },
  {
   "cell_type": "code",
   "execution_count": 172,
   "metadata": {
    "pycharm": {
     "name": "#%%\n"
    }
   },
   "outputs": [
    {
     "name": "stderr",
     "output_type": "stream",
     "text": [
      "C:\\Users\\Hoon\\anaconda3\\lib\\site-packages\\seaborn\\_decorators.py:36: FutureWarning: Pass the following variable as a keyword arg: x. From version 0.12, the only valid positional argument will be `data`, and passing other arguments without an explicit keyword will result in an error or misinterpretation.\n",
      "  warnings.warn(\n"
     ]
    },
    {
     "data": {
      "text/plain": [
       "<AxesSubplot:xlabel='label', ylabel='count'>"
      ]
     },
     "execution_count": 172,
     "metadata": {},
     "output_type": "execute_result"
    },
    {
     "data": {
      "image/png": "[encoded data removed]",
      "text/plain": [
       "<Figure size 432x288 with 1 Axes>"
      ]
     },
     "metadata": {},
     "output_type": "display_data"
    }
   ],
   "source": [
    "Y_train = train['label'] #extract labels\n",
    "X_train = train.drop(labels = ['label'], axis = 1).to_numpy() # drop labels\n",
    "del train # free memory\n",
    "\n",
    "g = sns.countplot(Y_train)\n",
    "g"
   ]
  },
  {
   "cell_type": "markdown",
   "metadata": {},
   "source": [
    "#### 2.5 Training and Validation Data Split\n"
   ]
  },
  {
   "cell_type": "code",
   "execution_count": 173,
   "metadata": {
    "pycharm": {
     "name": "#%%\n"
    }
   },
   "outputs": [],
   "source": [
    "train_idx, val_idx = train_test_split(list(range(len(Y_train))), test_size = 0.2)\n",
    "\n",
    "x_val = [X_train[k] for k in val_idx]\n",
    "y_val = [Y_train[k] for k in val_idx]\n",
    "\n",
    "x_train = [X_train[k] for k in train_idx]\n",
    "y_train = [Y_train[k] for k in train_idx]"
   ]
  },
  {
   "cell_type": "markdown",
   "metadata": {},
   "source": [
    "#### 2.6 Annealer\n"
   ]
  },
  {
   "cell_type": "code",
   "execution_count": 174,
   "metadata": {
    "pycharm": {
     "name": "#%%\n"
    }
   },
   "outputs": [],
   "source": [
    "class dataset(Dataset):\n",
    "\n",
    "        def __init__(self, imgs, labels,transforms):\n",
    "            self.imgs = imgs\n",
    "            self.labels = labels\n",
    "            self.transforms = transforms\n",
    "\n",
    "        def __len__(self): # Unncessary Method\n",
    "            self.imgs_length = len(self.imgs)\n",
    "            return self.imgs_length\n",
    "\n",
    "        def __getitem__(self,idx):\n",
    "            im = self.imgs[idx].reshape((28,28))\n",
    "            x = Image.fromarray(im.astype(np.uint8))\n",
    "            if self.transforms:\n",
    "                x = self.transforms(x)\n",
    "            label = self.labels[idx]\n",
    "            return x, label"
   ]
  },
  {
   "cell_type": "code",
   "execution_count": 175,
   "metadata": {
    "pycharm": {
     "name": "#%%\n"
    }
   },
   "outputs": [],
   "source": [
    "def transformz(x):\n",
    "    img_transformz = Compose([\n",
    "        RandomRotation((-15,15),expand = True), # Rotate the image with a random angle between 15\n",
    "        # degrees clockwise and anti clockwise\n",
    "        RandomApply([CenterCrop(26)],p = 0.6), # Random apply a Center Crop to Images, probability = 0.6\n",
    "        Resize(28), # resize images to 32 by 32\n",
    "        ToTensor() # Normalizes the image and converts the image to a torch.tensor dtype\n",
    "\n",
    "    ])\n",
    "    return img_transformz(x)\n",
    "\n"
   ]
  },
  {
   "cell_type": "code",
   "execution_count": 176,
   "metadata": {
    "pycharm": {
     "name": "#%%\n"
    }
   },
   "outputs": [],
   "source": [
    "train_data = dataset(x_train, y_train,transformz)\n",
    "val_data  = dataset(x_val, y_val,transformz)"
   ]
  },
  {
   "cell_type": "markdown",
   "metadata": {},
   "source": [
    "#### 2.7 Plot transformed images"
   ]
  },
  {
   "cell_type": "code",
   "execution_count": 177,
   "metadata": {
    "pycharm": {
     "name": "#%%\n"
    }
   },
   "outputs": [
    {
     "data": {
      "image/png": "[encoded data removed]",
      "text/plain": [
       "<Figure size 720x720 with 20 Axes>"
      ]
     },
     "metadata": {},
     "output_type": "display_data"
    }
   ],
   "source": [
    "import random\n",
    "#Generate 20 random numbers between 0 and number of training data samples\n",
    "randomlist = random.sample(range(0, len(y_train)), 20)\n",
    "\n",
    "# Check the Images have been rotated to some degree\n",
    "fig=plt.figure(figsize=(10, 10))\n",
    "k = 0\n",
    "for j in randomlist:\n",
    "\n",
    "    fig.add_subplot(4,5,k+1)\n",
    "    plt.xticks([])\n",
    "    plt.yticks([])\n",
    "    plt.grid(False)\n",
    "    plt.imshow(np.squeeze(train_data[j][0]), cmap=plt.cm.binary)\n",
    "    plt.title(train_data[j][1])\n",
    "    k += 1\n",
    "plt.show()"
   ]
  },
  {
   "cell_type": "markdown",
   "metadata": {},
   "source": [
    "### CNN Model"
   ]
  },
  {
   "cell_type": "markdown",
   "metadata": {},
   "source": [
    "#### 3.1 Prepare Data Loaders"
   ]
  },
  {
   "cell_type": "code",
   "execution_count": 178,
   "metadata": {
    "pycharm": {
     "name": "#%%\n"
    }
   },
   "outputs": [],
   "source": [
    "train_loader = DataLoader(dataset = train_data, batch_size=16, shuffle=True )\n",
    "val_loader = DataLoader(dataset = val_data, batch_size=16, shuffle=True )"
   ]
  },
  {
   "cell_type": "markdown",
   "metadata": {
    "pycharm": {
     "name": "#%% md\n"
    }
   },
   "source": [
    "#### 3.2 Model"
   ]
  },
  {
   "cell_type": "code",
   "execution_count": 179,
   "metadata": {
    "pycharm": {
     "name": "#%%\n"
    }
   },
   "outputs": [],
   "source": [
    "class Net(nn.Module):\n",
    "\n",
    "    def __init__(self):\n",
    "        super(Net, self).__init__()\n",
    "\n",
    "        self.layer1 = nn.Sequential(\n",
    "            nn.Conv2d(1,32,kernel_size=3, padding=0),\n",
    "            nn.BatchNorm2d(32),\n",
    "            nn.ReLU(),\n",
    "            nn.MaxPool2d(2)\n",
    "        )\n",
    "\n",
    "        self.layer2 = nn.Sequential(\n",
    "            nn.Conv2d(32,64, kernel_size=3, padding=0),\n",
    "            nn.BatchNorm2d(64),\n",
    "            nn.ReLU(),\n",
    "            nn.MaxPool2d(2)\n",
    "            )\n",
    "\n",
    "\n",
    "        self.fc1 = nn.Linear(5*5*64,32)\n",
    "        self.dropout = nn.Dropout(0.8)\n",
    "        self.fc2 = nn.Linear(32,10)\n",
    "        self.relu = nn.ReLU()\n",
    "\n",
    "\n",
    "    def forward(self,x):\n",
    "        out = self.layer1(x)\n",
    "        out = self.layer2(out)\n",
    "        out = out.view(out.size(0),-1)\n",
    "        out = self.relu(self.fc1(out))\n",
    "        out = self.fc2(out)\n",
    "        return out"
   ]
  },
  {
   "cell_type": "markdown",
   "metadata": {},
   "source": [
    "#### 3.3 Optimizer"
   ]
  },
  {
   "cell_type": "code",
   "execution_count": 180,
   "metadata": {},
   "outputs": [],
   "source": [
    "# Initialize model\n",
    "model = Net().to(device)\n",
    "criterion = nn.CrossEntropyLoss()\n",
    "optimizer = torch.optim.Adam(model.parameters(), lr=1e-3, weight_decay=1e-3)"
   ]
  },
  {
   "cell_type": "markdown",
   "metadata": {},
   "source": [
    "#### 3.4 Model Training"
   ]
  },
  {
   "cell_type": "code",
   "execution_count": 181,
   "metadata": {},
   "outputs": [],
   "source": [
    "history = {'training_acc' : [],'val_loss' : [],'val_acc' : [],'train_loss' : []}\n",
    "def train(epoch):\n",
    "    epoch_loss = 0\n",
    "    epoch_accuracy = 0\n",
    "    \n",
    "    for data, label in train_loader:\n",
    "        data = data.to(device)\n",
    "        label = label.to(device)\n",
    "        \n",
    "        output = model(data)\n",
    "        loss = criterion(output, label)\n",
    "        \n",
    "        optimizer.zero_grad()\n",
    "        loss.backward()\n",
    "        optimizer.step()\n",
    "        \n",
    "        acc = ((output.argmax(dim=1) == label).float().mean())\n",
    "        epoch_accuracy += acc/len(train_loader)\n",
    "        epoch_loss += loss/len(train_loader)\n",
    "        \n",
    "    print('Epoch : {}, train accuracy : {}, train loss : {}'.format(epoch+1, epoch_accuracy,epoch_loss))\n",
    "    \n",
    "    \n",
    "    with torch.no_grad():\n",
    "        epoch_val_accuracy=0\n",
    "        epoch_val_loss =0\n",
    "        for data, label in val_loader:\n",
    "            data = data.to(device)\n",
    "            label = label.to(device)\n",
    "            \n",
    "            val_output = model(data)\n",
    "            val_loss = criterion(val_output,label)\n",
    "            \n",
    "            \n",
    "            acc = ((val_output.argmax(dim=1) == label).float().mean())\n",
    "            epoch_val_accuracy += acc/ len(val_loader)\n",
    "            epoch_val_loss += val_loss/ len(val_loader)\n",
    "            \n",
    "        print('Epoch : {}, val_accuracy : {}, val_loss : {}'.format(epoch+1, epoch_val_accuracy,epoch_val_loss))\n",
    "    history['training_acc'].append(epoch_accuracy)\n",
    "    history['val_acc'].append(epoch_val_accuracy)\n",
    "    history['train_loss'].append(epoch_loss)\n",
    "    history['val_loss'].append(epoch_val_loss)"
   ]
  },
  {
   "cell_type": "code",
   "execution_count": null,
   "metadata": {},
   "outputs": [
    {
     "name": "stdout",
     "output_type": "stream",
     "text": [
      "Epoch : 1, train accuracy : 0.9372037053108215, train loss : 0.2058538943529129\n",
      "Epoch : 1, val_accuracy : 0.9658352732658386, val_loss : 0.10863969475030899\n",
      "Epoch : 2, train accuracy : 0.9692542552947998, train loss : 0.09732561558485031\n",
      "Epoch : 2, val_accuracy : 0.9750024676322937, val_loss : 0.08555920422077179\n",
      "Epoch : 3, train accuracy : 0.9741346836090088, train loss : 0.07985600084066391\n",
      "Epoch : 3, val_accuracy : 0.9738117456436157, val_loss : 0.08326078951358795\n",
      "Epoch : 4, train accuracy : 0.9757407307624817, train loss : 0.07485494017601013\n",
      "Epoch : 4, val_accuracy : 0.97464519739151, val_loss : 0.0825965404510498\n",
      "Epoch : 5, train accuracy : 0.9777643084526062, train loss : 0.06903212517499924\n",
      "Epoch : 5, val_accuracy : 0.9736925959587097, val_loss : 0.08432139456272125\n",
      "Epoch : 6, train accuracy : 0.9778534770011902, train loss : 0.06763683259487152\n",
      "Epoch : 6, val_accuracy : 0.9811932444572449, val_loss : 0.06856739521026611\n"
     ]
    }
   ],
   "source": [
    "for epoch in range(0, 10):\n",
    "    train(epoch)"
   ]
  },
  {
   "cell_type": "markdown",
   "metadata": {},
   "source": [
    "### 4. Model Performance"
   ]
  },
  {
   "cell_type": "markdown",
   "metadata": {},
   "source": [
    "#### 4.1 Training and Validation Curves"
   ]
  },
  {
   "cell_type": "code",
   "execution_count": null,
   "metadata": {},
   "outputs": [],
   "source": [
    "df = pd.DataFrame.from_dict(history, orient='columns')\n",
    "# Plot the loss and accuracy curves for training and validation \n",
    "fig, ax = plt.subplots(2,1)\n",
    "ax[0].plot(df.train_loss, color='b', label=\"Training loss\")\n",
    "ax[0].plot(df.val_loss, color='r', label=\"validation loss\",axes =ax[0])\n",
    "legend = ax[0].legend(loc='best', shadow=True)\n",
    "\n",
    "ax[1].plot(df.training_acc, color='b', label=\"Training accuracy\")\n",
    "ax[1].plot(df.val_acc, color='r',label=\"Validation accuracy\")\n",
    "legend = ax[1].legend(loc='best', shadow=True)"
   ]
  },
  {
   "cell_type": "markdown",
   "metadata": {},
   "source": [
    "#### 4.2 Save Model"
   ]
  },
  {
   "cell_type": "code",
   "execution_count": null,
   "metadata": {},
   "outputs": [],
   "source": [
    "# Specify a path\n",
    "PATH = \"HooNN.pt\"\n",
    "\n",
    "# Save\n",
    "torch.save(model.state_dict(), PATH)\n"
   ]
  }
 ],
 "metadata": {
  "kernelspec": {
   "display_name": "Python 3",
   "language": "python",
   "name": "python3"
  },
  "language_info": {
   "codemirror_mode": {
    "name": "ipython",
    "version": 3
   },
   "file_extension": ".py",
   "mimetype": "text/x-python",
   "name": "python",
   "nbconvert_exporter": "python",
   "pygments_lexer": "ipython3",
   "version": "3.8.5"
  },
  "papermill": {
   "duration": 226.753984,
   "end_time": "2020-12-25T09:05:24.197293",
   "environment_variables": {},
   "exception": null,
   "input_path": "__notebook__.ipynb",
   "output_path": "__notebook__.ipynb",
   "parameters": {},
   "start_time": "2020-12-25T09:01:37.443309",
   "version": "2.1.0"
  }
 },
 "nbformat": 4,
 "nbformat_minor": 4
}